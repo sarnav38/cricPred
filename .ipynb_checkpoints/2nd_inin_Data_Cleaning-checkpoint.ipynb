{
 "cells": [
  {
   "cell_type": "code",
   "execution_count": 1,
   "id": "e481ef7f",
   "metadata": {},
   "outputs": [],
   "source": [
    "import pandas as pd"
   ]
  },
  {
   "cell_type": "code",
   "execution_count": 20,
   "id": "759ba9c6",
   "metadata": {},
   "outputs": [],
   "source": [
    "sdf_1 = pd.read_pickle('./IPL_Data_Cleaning_cached_df')\n",
    "sdf_2 = sdf_1[sdf_1['ininings'] == 2]\n",
    "sdf_3 = sdf_1[sdf_1['ininings'] == 1] \n",
    "sdf_3 = sdf_3.groupby('Match_id').last()['runs_cumsum'].reset_index()"
   ]
  },
  {
   "cell_type": "code",
   "execution_count": 47,
   "id": "350f2434",
   "metadata": {},
   "outputs": [],
   "source": [
    "sdf_4 = sdf_2.merge(sdf_3, on='Match_id', how='inner')\n",
    "sdf_4 = sdf_4.drop(columns=['season', 'dates','ininings'])\n",
    "sdf_4 = sdf_4.rename(columns={'ininings.team': 'team_batting', \n",
    "                              'runs.total':'runs', 'runs_cumsum_x':'runs_cum',\n",
    "                             'ininings.overs.over':'overs','runs_cumsum_y':'target'})\n",
    "teams = ['Royal Challengers Bangalore','Kolkata Knight Riders','Sunrisers Hyderabad',\n",
    "         'Mumbai Indians','Chennai Super Kings','Rajasthan Royals','Delhi Capitals',\n",
    "         'Punjab Kings','Gujarat Titans','Lucknow Super Giants']\n",
    "\n",
    "# 'Kings XI Punjab', 'Delhi Daredevils', 'Deccan Chargers'\n",
    "# 'Sunrisers Hyderabad', 'Delhi Capitals', 'Punjab Kings'"
   ]
  },
  {
   "cell_type": "code",
   "execution_count": 61,
   "id": "c4fb1335",
   "metadata": {},
   "outputs": [],
   "source": [
    "def resFun(val1: str, val2: str):\n",
    "    if val1 is val2:\n",
    "        return 1\n",
    "    else:\n",
    "        return 0"
   ]
  },
  {
   "cell_type": "code",
   "execution_count": 63,
   "id": "b43aff74",
   "metadata": {},
   "outputs": [],
   "source": [
    "sdf_4 = sdf_4[sdf_4['team_batting'].isin(teams)]\n",
    "sdf_4 = sdf_4[sdf_4['team_bowling'].isin(teams)]\n",
    "sdf_4['team_batting'] = sdf_4['team_batting'].str.replace('Kings XI Punjab', 'Punjab Kings')\n",
    "sdf_4['team_bowling'] = sdf_4['team_bowling'].str.replace('Kings XI Punjab', 'Punjab Kings')\n",
    "sdf_4['team_batting'] = sdf_4['team_batting'].str.replace('Delhi Daredevils', 'Delhi Capitals')\n",
    "sdf_4['team_bowling'] = sdf_4['team_bowling'].str.replace('Delhi Daredevils', 'Delhi Capitals')\n",
    "sdf_4['team_batting'] = sdf_4['team_batting'].str.replace('Deccan Chargers', 'Sunrisers Hyderabad')\n",
    "sdf_4['team_bowling'] = sdf_4['team_bowling'].str.replace('Deccan Chargers', 'Sunrisers Hyderabad')\n",
    "sdf_4['overs'] = sdf_4['overs'].apply(lambda x: (x+1))\n",
    "sdf_4['balls'] = sdf_4.groupby('Match_id').cumcount()\n",
    "sdf_4['balls'] = sdf_4['balls'].apply(lambda x: (x + 1))"
   ]
  },
  {
   "cell_type": "code",
   "execution_count": null,
   "id": "6e11c236",
   "metadata": {},
   "outputs": [],
   "source": []
  }
 ],
 "metadata": {
  "kernelspec": {
   "display_name": "Python 3 (ipykernel)",
   "language": "python",
   "name": "python3"
  },
  "language_info": {
   "codemirror_mode": {
    "name": "ipython",
    "version": 3
   },
   "file_extension": ".py",
   "mimetype": "text/x-python",
   "name": "python",
   "nbconvert_exporter": "python",
   "pygments_lexer": "ipython3",
   "version": "3.8.10"
  }
 },
 "nbformat": 4,
 "nbformat_minor": 5
}
