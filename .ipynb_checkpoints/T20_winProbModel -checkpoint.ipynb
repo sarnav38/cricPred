{
 "cells": [
  {
   "cell_type": "code",
   "execution_count": 1,
   "id": "ccc56c40",
   "metadata": {},
   "outputs": [],
   "source": [
    "import pandas as pd\n",
    "import numpy as np\n",
    "from sklearn.model_selection import train_test_split, cross_val_score\n",
    "from sklearn.compose import ColumnTransformer\n",
    "from sklearn.preprocessing import OneHotEncoder, StandardScaler\n",
    "from sklearn.linear_model import LogisticRegression\n",
    "from sklearn.ensemble import RandomForestClassifier\n",
    "from sklearn.pipeline import Pipeline\n",
    "from sklearn.metrics import accuracy_score\n",
    "import warnings\n",
    "from xgboost import XGBClassifier"
   ]
  },
  {
   "cell_type": "code",
   "execution_count": 2,
   "id": "dee92146",
   "metadata": {},
   "outputs": [],
   "source": [
    "warnings.filterwarnings('ignore')"
   ]
  },
  {
   "cell_type": "code",
   "execution_count": 3,
   "id": "4434c993",
   "metadata": {},
   "outputs": [
    {
     "data": {
      "text/html": [
       "<div>\n",
       "<style scoped>\n",
       "    .dataframe tbody tr th:only-of-type {\n",
       "        vertical-align: middle;\n",
       "    }\n",
       "\n",
       "    .dataframe tbody tr th {\n",
       "        vertical-align: top;\n",
       "    }\n",
       "\n",
       "    .dataframe thead th {\n",
       "        text-align: right;\n",
       "    }\n",
       "</style>\n",
       "<table border=\"1\" class=\"dataframe\">\n",
       "  <thead>\n",
       "    <tr style=\"text-align: right;\">\n",
       "      <th></th>\n",
       "      <th>team_batting</th>\n",
       "      <th>team_bowling</th>\n",
       "      <th>city</th>\n",
       "      <th>runs_left</th>\n",
       "      <th>ball_left</th>\n",
       "      <th>wicket_left</th>\n",
       "      <th>target</th>\n",
       "      <th>crr</th>\n",
       "      <th>rrr</th>\n",
       "      <th>Result</th>\n",
       "    </tr>\n",
       "  </thead>\n",
       "  <tbody>\n",
       "    <tr>\n",
       "      <th>125</th>\n",
       "      <td>Bangladesh</td>\n",
       "      <td>New Zealand</td>\n",
       "      <td>Mount Maunganui</td>\n",
       "      <td>193</td>\n",
       "      <td>119</td>\n",
       "      <td>10</td>\n",
       "      <td>194</td>\n",
       "      <td>6.0</td>\n",
       "      <td>9.73</td>\n",
       "      <td>0</td>\n",
       "    </tr>\n",
       "  </tbody>\n",
       "</table>\n",
       "</div>"
      ],
      "text/plain": [
       "    team_batting team_bowling             city  runs_left  ball_left  \\\n",
       "125   Bangladesh  New Zealand  Mount Maunganui        193        119   \n",
       "\n",
       "     wicket_left  target  crr   rrr  Result  \n",
       "125           10     194  6.0  9.73       0  "
      ]
     },
     "execution_count": 3,
     "metadata": {},
     "output_type": "execute_result"
    }
   ],
   "source": [
    "df = pd.read_pickle('./T20WinProb_Data_cached_df')\n",
    "df.head(1)"
   ]
  },
  {
   "cell_type": "markdown",
   "id": "4c44273b",
   "metadata": {},
   "source": [
    "## # result 0 means bowling team wins and 1 means batting team wins"
   ]
  },
  {
   "cell_type": "code",
   "execution_count": 4,
   "id": "d90464a8",
   "metadata": {},
   "outputs": [],
   "source": [
    "x = df.iloc[:,:-1]\n",
    "y = df.iloc[:, -1]"
   ]
  },
  {
   "cell_type": "code",
   "execution_count": 5,
   "id": "ca70c25e",
   "metadata": {},
   "outputs": [],
   "source": [
    "x1,x_test, y1,y_test = train_test_split(x,y,test_size=0.2,random_state=1)\n",
    "x_train, x_val, y_train, y_val =  train_test_split(x1,y1,test_size=0.2,random_state=2)"
   ]
  },
  {
   "cell_type": "code",
   "execution_count": 6,
   "id": "1415f0a0",
   "metadata": {},
   "outputs": [
    {
     "name": "stdout",
     "output_type": "stream",
     "text": [
      "(86444, 9)\n",
      "(21612, 9)\n",
      "(27015, 9)\n",
      "(86444,)\n",
      "(21612,)\n",
      "(27015,)\n"
     ]
    }
   ],
   "source": [
    "print(x_train.shape)\n",
    "print(x_val.shape)\n",
    "print(x_test.shape)\n",
    "print(y_train.shape)\n",
    "print(y_val.shape)\n",
    "print(y_test.shape)"
   ]
  },
  {
   "cell_type": "code",
   "execution_count": null,
   "id": "0b93d5ce",
   "metadata": {},
   "outputs": [],
   "source": [
    "trf = ColumnTransformer([\n",
    "    ('trf', OneHotEncoder(sparse=False, drop='first'),['team_batting','team_bowling','city'])\n",
    "], remainder='passthrough')"
   ]
  },
  {
   "cell_type": "code",
   "execution_count": null,
   "id": "80099a5f",
   "metadata": {},
   "outputs": [],
   "source": [
    "lr_pipe = Pipeline(steps=[\n",
    "    ('step1', trf),\n",
    "    ('scl', StandardScaler()),\n",
    "    ('step2', LogisticRegression(solver='liblinear'))\n",
    "])\n",
    "\n",
    "rf_pipe = Pipeline(steps=[\n",
    "    ('step1', trf), \n",
    "    ('rf', RandomForestClassifier())\n",
    "])\n",
    "\n",
    "xgb_pipe = Pipeline(steps=[\n",
    "    ('step1', trf),\n",
    "    ('scl', StandardScaler()),\n",
    "    ('xgb', XGBClassifier(n_estimators=1000,max_depth=12,learning_rate =0.2,random_state=10))\n",
    "])"
   ]
  },
  {
   "cell_type": "code",
   "execution_count": null,
   "id": "33612cd3",
   "metadata": {},
   "outputs": [],
   "source": [
    "lr_pipe.fit(x_train, y_train)\n",
    "rf_pipe.fit(x_train, y_train)\n",
    "xgb_pipe.fit(x_train, y_train)"
   ]
  },
  {
   "cell_type": "code",
   "execution_count": null,
   "id": "b646df63",
   "metadata": {},
   "outputs": [],
   "source": [
    "lry_pred_test = lr_pipe.predict(x_test)\n",
    "print(f\"Linear Model: {accuracy_score(lry_pred_test, y_test)}\")"
   ]
  },
  {
   "cell_type": "code",
   "execution_count": null,
   "id": "c8d9b7ba",
   "metadata": {},
   "outputs": [],
   "source": [
    "rfy_pred_test = rf_pipe.predict(x_test)\n",
    "print(f\"Random Forest Model: {accuracy_score(rfy_pred_test, y_test)}\")"
   ]
  },
  {
   "cell_type": "code",
   "execution_count": null,
   "id": "0b4a8b17",
   "metadata": {},
   "outputs": [],
   "source": [
    "xgby_pred_test = xgb_pipe.predict(x_test)\n",
    "print(f\"XGB Reg Model: {accuracy_score(xgby_pred_test, y_test)}\")"
   ]
  },
  {
   "cell_type": "code",
   "execution_count": null,
   "id": "453c0a30",
   "metadata": {},
   "outputs": [],
   "source": [
    "lrscore = cross_val_score(lr_pipe, x_val,y_val,cv=5)\n",
    "print(f\"Linear M0del: {lrscore}\")\n",
    "\n",
    "rfscore = cross_val_score(rf_pipe, x_val,y_val,cv=5)\n",
    "print(f\"Random Forest M0del: {rfscore}\")\n",
    "\n",
    "xgbscore = cross_val_score(xgb_pipe, x_val,y_val,cv=5)\n",
    "print(f\"XGB Regressor M0del: {xgbscore}\")"
   ]
  },
  {
   "cell_type": "code",
   "execution_count": null,
   "id": "8e907c29",
   "metadata": {},
   "outputs": [],
   "source": [
    "x1 = x_test.head(1)\n",
    "x1"
   ]
  },
  {
   "cell_type": "markdown",
   "id": "a28d43a7",
   "metadata": {},
   "source": [
    "## # result 0 means bowling team wins and 1 means batting team wins"
   ]
  },
  {
   "cell_type": "code",
   "execution_count": null,
   "id": "b56dc52a",
   "metadata": {},
   "outputs": [],
   "source": [
    "y_test.head(1)"
   ]
  },
  {
   "cell_type": "code",
   "execution_count": null,
   "id": "2f34c71e",
   "metadata": {},
   "outputs": [],
   "source": [
    "print(xgb_pipe.predict(x1))\n",
    "print(xgb_pipe.predict_proba(x1))"
   ]
  },
  {
   "cell_type": "code",
   "execution_count": null,
   "id": "79ab5076",
   "metadata": {},
   "outputs": [],
   "source": [
    "print(rf_pipe.predict(x1))\n",
    "print(rf_pipe.predict_proba(x1))"
   ]
  },
  {
   "cell_type": "code",
   "execution_count": null,
   "id": "d8ca3895",
   "metadata": {},
   "outputs": [],
   "source": [
    "print(lr_pipe.predict(x1))\n",
    "print(lr_pipe.predict_proba(x1))"
   ]
  },
  {
   "cell_type": "code",
   "execution_count": null,
   "id": "6e83d8fc",
   "metadata": {},
   "outputs": [],
   "source": [
    "import pickle"
   ]
  },
  {
   "cell_type": "code",
   "execution_count": null,
   "id": "ceda59e6",
   "metadata": {},
   "outputs": [],
   "source": [
    "with open(\"./Models/IPL_WinProb_ModelPred.pkl\", \"wb\") as f:\n",
    "    pickle.dump(xgb_pipe,f)"
   ]
  },
  {
   "cell_type": "code",
   "execution_count": null,
   "id": "a8a8d6ff",
   "metadata": {},
   "outputs": [],
   "source": [
    "model = pickle.load(open('./Models/IPL_WinProb_ModelPred.pkl', 'rb'))"
   ]
  },
  {
   "cell_type": "code",
   "execution_count": null,
   "id": "6d5abffb",
   "metadata": {},
   "outputs": [],
   "source": [
    "print(model.predict(x1))\n",
    "print(model.predict_proba(x1))"
   ]
  },
  {
   "cell_type": "code",
   "execution_count": null,
   "id": "d3f86ab9",
   "metadata": {},
   "outputs": [],
   "source": []
  }
 ],
 "metadata": {
  "kernelspec": {
   "display_name": "Python 3 (ipykernel)",
   "language": "python",
   "name": "python3"
  },
  "language_info": {
   "codemirror_mode": {
    "name": "ipython",
    "version": 3
   },
   "file_extension": ".py",
   "mimetype": "text/x-python",
   "name": "python",
   "nbconvert_exporter": "python",
   "pygments_lexer": "ipython3",
   "version": "3.8.10"
  }
 },
 "nbformat": 4,
 "nbformat_minor": 5
}
