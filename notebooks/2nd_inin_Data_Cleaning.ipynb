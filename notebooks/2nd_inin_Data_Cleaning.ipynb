{
 "cells": [
  {
   "cell_type": "code",
   "execution_count": 1,
   "id": "f7e931b6",
   "metadata": {},
   "outputs": [],
   "source": [
    "import pandas as pd"
   ]
  },
  {
   "cell_type": "markdown",
   "id": "be9a2524",
   "metadata": {},
   "source": [
    "## For IPL"
   ]
  },
  {
   "cell_type": "code",
   "execution_count": 27,
   "id": "443b1259",
   "metadata": {},
   "outputs": [],
   "source": [
    "def resFun(val1: str, val2: str):\n",
    "    if val1 == val2:\n",
    "        return 1\n",
    "    else:\n",
    "        return 0"
   ]
  },
  {
   "cell_type": "code",
   "execution_count": 64,
   "id": "aa849e07",
   "metadata": {},
   "outputs": [],
   "source": [
    "def Ipl_winProb(pklFile:str):\n",
    "    sdf_1 = pd.read_pickle(pklFile)\n",
    "    sdf_2 = sdf_1[sdf_1['ininings'] == 2]\n",
    "    sdf_3 = sdf_1[sdf_1['ininings'] == 1] \n",
    "    sdf_3 = sdf_3.groupby('Match_id').last()['runs_cumsum'].reset_index()\n",
    "    sdf_4 = sdf_2.merge(sdf_3, on='Match_id', how='inner')\n",
    "    sdf_4 = sdf_4.drop(columns=['season', 'dates','ininings'])\n",
    "    sdf_4 = sdf_4.rename(columns={'ininings.team': 'team_batting', \n",
    "                              'runs.total':'runs', 'runs_cumsum_x':'runs_cum',\n",
    "                             'ininings.overs.over':'overs','runs_cumsum_y':'target'})\n",
    "    teams = ['Royal Challengers Bangalore','Kolkata Knight Riders','Sunrisers Hyderabad',\n",
    "         'Mumbai Indians','Chennai Super Kings','Rajasthan Royals','Delhi Capitals',\n",
    "         'Punjab Kings','Gujarat Titans','Lucknow Super Giants']\n",
    "#     print(len(sdf_4['Match_id'].unique()))\n",
    "    sdf_4['team_batting'] = sdf_4['team_batting'].str.replace('Kings XI Punjab', 'Punjab Kings')\n",
    "    sdf_4['team_bowling'] = sdf_4['team_bowling'].str.replace('Kings XI Punjab', 'Punjab Kings')\n",
    "    sdf_4['team_batting'] = sdf_4['team_batting'].str.replace('Delhi Daredevils', 'Delhi Capitals')\n",
    "    sdf_4['team_bowling'] = sdf_4['team_bowling'].str.replace('Delhi Daredevils', 'Delhi Capitals')\n",
    "    sdf_4['team_batting'] = sdf_4['team_batting'].str.replace('Deccan Chargers', 'Sunrisers Hyderabad')\n",
    "    sdf_4['team_bowling'] = sdf_4['team_bowling'].str.replace('Deccan Chargers', 'Sunrisers Hyderabad')\n",
    "#     print(len(sdf_4['Match_id'].unique()))\n",
    "    sdf_4 = sdf_4[sdf_4['team_batting'].isin(teams)]\n",
    "    sdf_4 = sdf_4[sdf_4['team_bowling'].isin(teams)]\n",
    "#     print(len(sdf_4['Match_id'].unique()))\n",
    "    sdf_4['overs'] = sdf_4['overs'].apply(lambda x: (x+1))\n",
    "    sdf_4['balls'] = sdf_4.groupby('Match_id').cumcount()\n",
    "    sdf_4['balls'] = sdf_4['balls'].apply(lambda x: (x + 1))\n",
    "    result =[]\n",
    "    val1 = sdf_4['team_batting'].values.tolist()\n",
    "    val2 = sdf_4['winner'].values.tolist()\n",
    "    if len(val1) == len(val2):\n",
    "        for i in range(len(val1)):\n",
    "            res =resFun(val1[i], val2[i])\n",
    "            result.append(res)\n",
    "    #  result 0 means bowling team wins and 1 means batting team wins\n",
    "    sdf_4['Result'] = result\n",
    "    sdf_4['runs_left'] = sdf_4['target'] - sdf_4['runs_cum']\n",
    "    sdf_4['ball_left'] = 120 - sdf_4['balls']\n",
    "    sdf_4['wicket_left'] = 10 - sdf_4['wicket_cumsum']\n",
    "    sdf_4['ball_left'] = sdf_4['ball_left'].apply(lambda x: None if x <= 0 else int(x) )\n",
    "    sdf_4 = sdf_4.dropna()\n",
    "    sdf_4['ball_left'] = sdf_4['ball_left'].astype('int64')\n",
    "#     print(len(sdf_4['Match_id'].unique()))\n",
    "    sdf_4['crr'] = (((sdf_4['target'] - sdf_4['runs_left'])*6) / (120 - sdf_4['ball_left']))\n",
    "    sdf_4['crr'] = sdf_4['crr'].apply(lambda x: round(x,2))\n",
    "    sdf_4['rrr'] = ((sdf_4['runs_left']*6) / sdf_4['ball_left'])\n",
    "    sdf_4['rrr'] = sdf_4['rrr'].apply(lambda x: round(x,2))\n",
    "    sdf_4 = sdf_4.drop(columns=['Match_id','winner','runs','runs_cum', 'wicket_cumsum','overs','balls'])\n",
    "    sdf_5 = sdf_4[['team_batting','team_bowling','city','runs_left','ball_left','wicket_left','target','crr','rrr','Result']]\n",
    "    return sdf_5"
   ]
  },
  {
   "cell_type": "code",
   "execution_count": 65,
   "id": "7f175bc9",
   "metadata": {},
   "outputs": [],
   "source": [
    "# IplWinProb =Ipl_winProb('../ipl_DataClean/IPL_Data_Cleaning_cached_df')"
   ]
  },
  {
   "cell_type": "code",
   "execution_count": 66,
   "id": "bf583d4a",
   "metadata": {},
   "outputs": [
    {
     "name": "stdout",
     "output_type": "stream",
     "text": [
      "<class 'pandas.core.frame.DataFrame'>\n",
      "Int64Index: 89432 entries, 0 to 111835\n",
      "Data columns (total 10 columns):\n",
      " #   Column        Non-Null Count  Dtype  \n",
      "---  ------        --------------  -----  \n",
      " 0   team_batting  89432 non-null  object \n",
      " 1   team_bowling  89432 non-null  object \n",
      " 2   city          89432 non-null  object \n",
      " 3   runs_left     89432 non-null  int64  \n",
      " 4   ball_left     89432 non-null  int64  \n",
      " 5   wicket_left   89432 non-null  int64  \n",
      " 6   target        89432 non-null  int64  \n",
      " 7   crr           89432 non-null  float64\n",
      " 8   rrr           89432 non-null  float64\n",
      " 9   Result        89432 non-null  int64  \n",
      "dtypes: float64(2), int64(5), object(3)\n",
      "memory usage: 7.5+ MB\n"
     ]
    }
   ],
   "source": [
    "# IplWinProb.info()"
   ]
  },
  {
   "cell_type": "code",
   "execution_count": 38,
   "id": "a1590fb7",
   "metadata": {},
   "outputs": [],
   "source": [
    "# IplWinProb.to_pickle('../ipl_DataClean/IplWinProb_Data_cached_df')"
   ]
  },
  {
   "cell_type": "code",
   "execution_count": 41,
   "id": "ee409ff4",
   "metadata": {},
   "outputs": [],
   "source": [
    "# pd.read_pickle('../ipl_DataClean/IplWinProb_Data_cached_df')"
   ]
  },
  {
   "cell_type": "markdown",
   "id": "9d1eede6",
   "metadata": {},
   "source": [
    "## For T20"
   ]
  },
  {
   "cell_type": "code",
   "execution_count": 58,
   "id": "c1165e05",
   "metadata": {},
   "outputs": [],
   "source": [
    "def T20_winProb(pklFile:str):\n",
    "    sdf_1 = pd.read_pickle(pklFile)\n",
    "    sdf_2 = sdf_1[sdf_1['ininings'] == 2]\n",
    "    sdf_3 = sdf_1[sdf_1['ininings'] == 1] \n",
    "    sdf_3 = sdf_3.groupby('Match_id').last()['runs_cumsum'].reset_index()\n",
    "    sdf_4 = sdf_2.merge(sdf_3, on='Match_id', how='inner')\n",
    "    sdf_4 = sdf_4.drop(columns=['dates','ininings'])\n",
    "    sdf_4 = sdf_4.rename(columns={'ininings.team': 'team_batting', \n",
    "                              'runs.total':'runs', 'runs_cumsum_x':'runs_cum',\n",
    "                             'ininings.overs.over':'overs','runs_cumsum_y':'target'})\n",
    "    teams = ['Australia','Sri Lanka','New Zealand','Bangladesh','India','Ireland','Scotland','Netherlands',\n",
    "             'West Indies','Pakistan','Zimbabwe','South Africa','England','Afghanistan']\n",
    "#     print(len(sdf_4['Match_id'].unique()))\n",
    "    sdf_4 = sdf_4[sdf_4['team_batting'].isin(teams)]\n",
    "    sdf_4 = sdf_4[sdf_4['team_bowling'].isin(teams)]\n",
    "#     print(len(sdf_4['Match_id'].unique()))\n",
    "    sdf_4['overs'] = sdf_4['overs'].apply(lambda x: (x+1))\n",
    "    sdf_4['balls'] = sdf_4.groupby('Match_id').cumcount()\n",
    "    sdf_4['balls'] = sdf_4['balls'].apply(lambda x: (x + 1))\n",
    "    result =[]\n",
    "    val1 = sdf_4['team_batting'].values.tolist()\n",
    "    val2 = sdf_4['winner'].values.tolist()\n",
    "    if len(val1) == len(val2):\n",
    "        for i in range(len(val1)):\n",
    "            res =resFun(val1[i], val2[i])\n",
    "            result.append(res)\n",
    "    #  result 0 means bowling team wins and 1 means batting team wins\n",
    "    sdf_4['Result'] = result\n",
    "    sdf_4['runs_left'] = sdf_4['target'] - sdf_4['runs_cum']\n",
    "    sdf_4['ball_left'] = 120 - sdf_4['balls']\n",
    "    sdf_4['wicket_left'] = 10 - sdf_4['wicket_cumsum']\n",
    "    sdf_4['ball_left'] = sdf_4['ball_left'].apply(lambda x: None if x <= 0 else int(x) )\n",
    "    sdf_4 = sdf_4.dropna()\n",
    "#     print(len(sdf_4['Match_id'].unique()))\n",
    "    sdf_4['ball_left'] = sdf_4['ball_left'].astype('int64')\n",
    "    sdf_4['crr'] = (((sdf_4['target'] - sdf_4['runs_left'])*6) / (120 - sdf_4['ball_left']))\n",
    "    sdf_4['crr'] = sdf_4['crr'].apply(lambda x: round(x,2))\n",
    "    sdf_4['rrr'] = ((sdf_4['runs_left']*6) / sdf_4['ball_left'])\n",
    "    sdf_4['rrr'] = sdf_4['rrr'].apply(lambda x: round(x,2))\n",
    "    sdf_4 = sdf_4.drop(columns=['Match_id','winner','runs','runs_cum', 'wicket_cumsum','overs','balls'])\n",
    "    sdf_5 = sdf_4[['team_batting','team_bowling','city','runs_left','ball_left','wicket_left','target','crr','rrr','Result']]\n",
    "    return sdf_5"
   ]
  },
  {
   "cell_type": "code",
   "execution_count": 59,
   "id": "8e824c79",
   "metadata": {},
   "outputs": [
    {
     "name": "stdout",
     "output_type": "stream",
     "text": [
      "2576\n",
      "1438\n",
      "1240\n"
     ]
    }
   ],
   "source": [
    "# T20winProd = T20_winProb('../t20_DataClean/t20_Data_Cleaning_cached_df')"
   ]
  },
  {
   "cell_type": "code",
   "execution_count": 60,
   "id": "6f46edcf",
   "metadata": {},
   "outputs": [
    {
     "name": "stdout",
     "output_type": "stream",
     "text": [
      "<class 'pandas.core.frame.DataFrame'>\n",
      "Int64Index: 135071 entries, 125 to 276723\n",
      "Data columns (total 10 columns):\n",
      " #   Column        Non-Null Count   Dtype  \n",
      "---  ------        --------------   -----  \n",
      " 0   team_batting  135071 non-null  object \n",
      " 1   team_bowling  135071 non-null  object \n",
      " 2   city          135071 non-null  object \n",
      " 3   runs_left     135071 non-null  int64  \n",
      " 4   ball_left     135071 non-null  int64  \n",
      " 5   wicket_left   135071 non-null  int64  \n",
      " 6   target        135071 non-null  int64  \n",
      " 7   crr           135071 non-null  float64\n",
      " 8   rrr           135071 non-null  float64\n",
      " 9   Result        135071 non-null  int64  \n",
      "dtypes: float64(2), int64(5), object(3)\n",
      "memory usage: 11.3+ MB\n"
     ]
    }
   ],
   "source": [
    "# T20winProd.info()"
   ]
  },
  {
   "cell_type": "code",
   "execution_count": 67,
   "id": "4b15996c",
   "metadata": {},
   "outputs": [],
   "source": [
    "# T20winProd.to_pickle('../t20_DataClean/T20WinProb_Data_cached_df')"
   ]
  },
  {
   "cell_type": "code",
   "execution_count": 69,
   "id": "11bc5c37",
   "metadata": {},
   "outputs": [],
   "source": [
    "# pd.read_pickle('../t20_DataClean/T20WinProb_Data_cached_df')"
   ]
  },
  {
   "cell_type": "code",
   "execution_count": null,
   "id": "28551b77",
   "metadata": {},
   "outputs": [],
   "source": []
  }
 ],
 "metadata": {
  "kernelspec": {
   "display_name": "Python 3 (ipykernel)",
   "language": "python",
   "name": "python3"
  },
  "language_info": {
   "codemirror_mode": {
    "name": "ipython",
    "version": 3
   },
   "file_extension": ".py",
   "mimetype": "text/x-python",
   "name": "python",
   "nbconvert_exporter": "python",
   "pygments_lexer": "ipython3",
   "version": "3.8.10"
  }
 },
 "nbformat": 4,
 "nbformat_minor": 5
}
